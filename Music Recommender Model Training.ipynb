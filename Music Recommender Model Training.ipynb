{
 "cells": [
  {
   "cell_type": "code",
   "execution_count": 154,
   "id": "58b690fc-b7e2-4f42-a0df-9dfde5e8612f",
   "metadata": {},
   "outputs": [],
   "source": [
    "import pandas as pd"
   ]
  },
  {
   "cell_type": "code",
   "execution_count": 156,
   "id": "e7a0b1bb-01f9-4fd4-9491-4596824709dc",
   "metadata": {},
   "outputs": [],
   "source": [
    "df = pd.read_csv(\"spotify_millsongdata.csv\")"
   ]
  },
  {
   "cell_type": "code",
   "execution_count": 157,
   "id": "022a7a95-2ef2-45ad-9795-a96b1e500372",
   "metadata": {},
   "outputs": [
    {
     "data": {
      "text/plain": [
       "(57650, 4)"
      ]
     },
     "execution_count": 157,
     "metadata": {},
     "output_type": "execute_result"
    }
   ],
   "source": [
    "df.shape"
   ]
  },
  {
   "cell_type": "code",
   "execution_count": 158,
   "id": "a4934e85-c72f-440b-b45e-e33928622fb6",
   "metadata": {},
   "outputs": [
    {
     "data": {
      "text/plain": [
       "artist    0\n",
       "song      0\n",
       "link      0\n",
       "text      0\n",
       "dtype: int64"
      ]
     },
     "execution_count": 158,
     "metadata": {},
     "output_type": "execute_result"
    }
   ],
   "source": [
    "df.isnull().sum() #no missing array"
   ]
  },
  {
   "cell_type": "code",
   "execution_count": 159,
   "id": "6b66a423-7f0e-4699-974f-df3232093df8",
   "metadata": {},
   "outputs": [],
   "source": [
    "df = df.sample(5000).drop('link',axis=1).reset_index(drop=True) #dont need link so dropped"
   ]
  },
  {
   "cell_type": "code",
   "execution_count": 160,
   "id": "41c22648-1d5c-4fce-b47e-b2b37cf185b9",
   "metadata": {},
   "outputs": [
    {
     "data": {
      "text/plain": [
       "\"Jingle bells, jingle bells,  \\r\\nJingle all the way!  \\r\\nOh what fun it is to ride,  \\r\\nIn a one-horse open sleigh,  \\r\\nHey!  \\r\\n  \\r\\nJingle bells, jingle bells,  \\r\\nJingle all the way!  \\r\\nOh what fun it is to ride,  \\r\\nIn a one-horse open sleigh!  \\r\\n  \\r\\nDashing through the snow (jingle, jing, jing, jingle!)  \\r\\nIn a one-horse open sleigh (jingle, jing, jing, jingle!)  \\r\\nOver the fields we go (o'er the fields, jingle, jingle!)  \\r\\nLaughing all the way!  \\r\\nBells on Bob-Tail ring (jingle, jing, jing, jingle!)  \\r\\nMaking spirits bright (la, la, la la!)  \\r\\nWhat fun it is to ride and sing,  \\r\\nA sleighing song tonight!  \\r\\n  \\r\\nOh! Jingle bells, jingle bells,  \\r\\nJingle all the way!  \\r\\nOh what fun it is to ride,  \\r\\nIn a one-horse open sleigh,  \\r\\nHey!  \\r\\n  \\r\\nJingle bells, jingle bells,  \\r\\nJingle all the way!  \\r\\nOh what fun it is to ride,  \\r\\nIn a one-horse open sleigh!  \\r\\n  \\r\\nA day or two ago (A day or two ago)  \\r\\nI thought I'd take a ride (I thought I'd take a ride)  \\r\\nAnd soon Miss Fanny Bride (And soon Miss Fanny Bride)  \\r\\nWas seated by my side  \\r\\n(The horse was lean and lank)  \\r\\nMisfortune seemed his lot,  \\r\\nHe got into a drifted bank,  \\r\\nAnd we  \\r\\nWe got up sot!  \\r\\n  \\r\\nOh! Jingle bells, jingle bells,  \\r\\nJingle all the way!  \\r\\n(Oh what fun it is to ride)  \\r\\nIn a one-horse open sleigh  \\r\\nHey!  \\r\\n  \\r\\nJingle bells, jingle bells,  \\r\\nJingle all the way!  \\r\\n(Oh what fun it is to ride)  \\r\\nIn a one-horse open sleigh  \\r\\nHey!  \\r\\n  \\r\\nNow the ground is white (jingle, jing, jing, jingle!)  \\r\\nGo it while you're young (jingle, jing, jing, jingle!)  \\r\\nTake the girls tonight (Take the girls tonight)  \\r\\nAnd sing this sleighing song  \\r\\nJust get a Bob-Tailed Nag (jingle, jing, jing, jingle!)  \\r\\nTwo-forty for his speed  \\r\\nThen hitch 'em to an open sleigh,  \\r\\nAn' crack you'll take the lead!  \\r\\n  \\r\\nOh! Jingle bells, jingle bells,  \\r\\nJingle all the way!  \\r\\nOh what fun it is to ride,  \\r\\nIn a one-horse open sleigh,  \\r\\nHey!  \\r\\n  \\r\\nJingle bells, jingle bells,  \\r\\nJingle all the way!  \\r\\nOh what fun it is to ride  \\r\\nIn a one-horse open sleigh!\\r\\n\\r\\n\""
      ]
     },
     "execution_count": 160,
     "metadata": {},
     "output_type": "execute_result"
    }
   ],
   "source": [
    "df['text'][0] # have a look at lyrics of 1st song"
   ]
  },
  {
   "cell_type": "code",
   "execution_count": 161,
   "id": "d764b07a-a0be-422b-8e85-9f9cd6d9514b",
   "metadata": {},
   "outputs": [
    {
     "data": {
      "text/plain": [
       "(5000, 3)"
      ]
     },
     "execution_count": 161,
     "metadata": {},
     "output_type": "execute_result"
    }
   ],
   "source": [
    "\n",
    "df.shape"
   ]
  },
  {
   "cell_type": "markdown",
   "id": "717c4482-9a63-4d64-b77a-7b80c8b7c0bd",
   "metadata": {},
   "source": [
    "Lets do Text Cleaning & Pre-processing"
   ]
  },
  {
   "cell_type": "code",
   "execution_count": 163,
   "id": "afbcb225-ed23-483e-8f0f-7800c34d41d3",
   "metadata": {},
   "outputs": [],
   "source": [
    "df['text']  = df['text'].str.lower().replace(r'^\\w\\s', '').replace(r'\\n', '', regex = True)"
   ]
  },
  {
   "cell_type": "code",
   "execution_count": 164,
   "id": "1c4e83c1-b839-4df1-b94c-12c9c37e2105",
   "metadata": {},
   "outputs": [
    {
     "data": {
      "text/html": [
       "<div>\n",
       "<style scoped>\n",
       "    .dataframe tbody tr th:only-of-type {\n",
       "        vertical-align: middle;\n",
       "    }\n",
       "\n",
       "    .dataframe tbody tr th {\n",
       "        vertical-align: top;\n",
       "    }\n",
       "\n",
       "    .dataframe thead th {\n",
       "        text-align: right;\n",
       "    }\n",
       "</style>\n",
       "<table border=\"1\" class=\"dataframe\">\n",
       "  <thead>\n",
       "    <tr style=\"text-align: right;\">\n",
       "      <th></th>\n",
       "      <th>artist</th>\n",
       "      <th>song</th>\n",
       "      <th>text</th>\n",
       "    </tr>\n",
       "  </thead>\n",
       "  <tbody>\n",
       "    <tr>\n",
       "      <th>4995</th>\n",
       "      <td>Alabama</td>\n",
       "      <td>Hey Baby</td>\n",
       "      <td>written by bruce channel and margaret cobb  \\r...</td>\n",
       "    </tr>\n",
       "    <tr>\n",
       "      <th>4996</th>\n",
       "      <td>Human League</td>\n",
       "      <td>The Touchables</td>\n",
       "      <td>speaking of which, what is your choice  \\ryour...</td>\n",
       "    </tr>\n",
       "    <tr>\n",
       "      <th>4997</th>\n",
       "      <td>John Denver</td>\n",
       "      <td>Isabel</td>\n",
       "      <td>isabel is waiting  \\rin a room of many shadows...</td>\n",
       "    </tr>\n",
       "    <tr>\n",
       "      <th>4998</th>\n",
       "      <td>Jackson Browne</td>\n",
       "      <td>Rock Me On The Water</td>\n",
       "      <td>oh people, look around you  \\rthe signs are ev...</td>\n",
       "    </tr>\n",
       "    <tr>\n",
       "      <th>4999</th>\n",
       "      <td>Roy Orbison</td>\n",
       "      <td>Domino</td>\n",
       "      <td>there's a cat in town that you might know  \\rh...</td>\n",
       "    </tr>\n",
       "  </tbody>\n",
       "</table>\n",
       "</div>"
      ],
      "text/plain": [
       "              artist                  song  \\\n",
       "4995         Alabama              Hey Baby   \n",
       "4996    Human League        The Touchables   \n",
       "4997     John Denver                Isabel   \n",
       "4998  Jackson Browne  Rock Me On The Water   \n",
       "4999     Roy Orbison                Domino   \n",
       "\n",
       "                                                   text  \n",
       "4995  written by bruce channel and margaret cobb  \\r...  \n",
       "4996  speaking of which, what is your choice  \\ryour...  \n",
       "4997  isabel is waiting  \\rin a room of many shadows...  \n",
       "4998  oh people, look around you  \\rthe signs are ev...  \n",
       "4999  there's a cat in town that you might know  \\rh...  "
      ]
     },
     "execution_count": 164,
     "metadata": {},
     "output_type": "execute_result"
    }
   ],
   "source": [
    "df.tail(5)"
   ]
  },
  {
   "cell_type": "code",
   "execution_count": 165,
   "id": "b47738c5-e3fa-45c3-911a-20fa6d661cbd",
   "metadata": {},
   "outputs": [],
   "source": [
    "import nltk\n",
    "from nltk.stem.porter import PorterStemmer"
   ]
  },
  {
   "cell_type": "code",
   "execution_count": 166,
   "id": "453198b0-6259-4020-af23-b9789dc275e3",
   "metadata": {},
   "outputs": [],
   "source": [
    "stemmer = PorterStemmer()"
   ]
  },
  {
   "cell_type": "code",
   "execution_count": 167,
   "id": "522d62ef-fda9-478e-aa0c-67b4cf031f34",
   "metadata": {},
   "outputs": [],
   "source": [
    "def token(txt):\n",
    "    token = nltk.word_tokenize(txt)\n",
    "    a= [stemmer.stem(w) for w in token]\n",
    "    return \" \".join(a)"
   ]
  },
  {
   "cell_type": "code",
   "execution_count": 168,
   "id": "cb56b9d6-a5e5-4cd6-a6eb-12fa5278c8eb",
   "metadata": {},
   "outputs": [
    {
     "data": {
      "text/plain": [
       "'you are beauti'"
      ]
     },
     "execution_count": 168,
     "metadata": {},
     "output_type": "execute_result"
    }
   ],
   "source": [
    "token(\"you are beautiful\")"
   ]
  },
  {
   "cell_type": "code",
   "execution_count": 169,
   "id": "5f626759-ea88-4982-b2fa-eea8e7060de1",
   "metadata": {},
   "outputs": [
    {
     "data": {
      "text/plain": [
       "0       jingl bell , jingl bell , jingl all the way ! ...\n",
       "1       you hear the peopl talk you walk the wrong str...\n",
       "2       die by violenc in thi world is noth strang for...\n",
       "3       i close my eye and i can feel that you 're a p...\n",
       "4       good-day sunlight i 'd like to say how truli b...\n",
       "                              ...                        \n",
       "4995    written by bruce channel and margaret cobb hey...\n",
       "4996    speak of which , what is your choic your conve...\n",
       "4997    isabel is wait in a room of mani shadow her ey...\n",
       "4998    oh peopl , look around you the sign are everyw...\n",
       "4999    there 's a cat in town that you might know he ...\n",
       "Name: text, Length: 5000, dtype: object"
      ]
     },
     "execution_count": 169,
     "metadata": {},
     "output_type": "execute_result"
    }
   ],
   "source": [
    "df['text'].apply(lambda x: token(x))"
   ]
  },
  {
   "cell_type": "code",
   "execution_count": 170,
   "id": "aa796d49-5b9e-4420-9406-122ebea2c81f",
   "metadata": {},
   "outputs": [],
   "source": [
    "from sklearn.feature_extraction.text import TfidfVectorizer\n",
    "from sklearn.metrics.pairwise import cosine_similarity"
   ]
  },
  {
   "cell_type": "code",
   "execution_count": 171,
   "id": "1c84922f-02de-46bf-b807-c6756d008156",
   "metadata": {},
   "outputs": [],
   "source": [
    "tfid = TfidfVectorizer(analyzer = 'word', stop_words='english')"
   ]
  },
  {
   "cell_type": "code",
   "execution_count": 172,
   "id": "262fd675-e506-420a-aadd-44dd4e2b2895",
   "metadata": {},
   "outputs": [],
   "source": [
    "matrix = tfid.fit_transform(df['text'])"
   ]
  },
  {
   "cell_type": "code",
   "execution_count": 173,
   "id": "47c2bec4-4a0f-46ce-a75f-4f60dc2ed110",
   "metadata": {},
   "outputs": [],
   "source": [
    "similar = cosine_similarity(matrix)"
   ]
  },
  {
   "cell_type": "code",
   "execution_count": 174,
   "id": "09c52d67-e168-4930-87c7-91249278cba5",
   "metadata": {},
   "outputs": [
    {
     "data": {
      "text/plain": [
       "array([1.        , 0.0092294 , 0.00784281, ..., 0.        , 0.00633274,\n",
       "       0.00380391])"
      ]
     },
     "execution_count": 174,
     "metadata": {},
     "output_type": "execute_result"
    }
   ],
   "source": [
    "similar[0]"
   ]
  },
  {
   "cell_type": "code",
   "execution_count": 175,
   "id": "3d5a97cf-7283-4eb5-b518-fc62edf4c20a",
   "metadata": {},
   "outputs": [
    {
     "data": {
      "text/plain": [
       "4685"
      ]
     },
     "execution_count": 175,
     "metadata": {},
     "output_type": "execute_result"
    }
   ],
   "source": [
    "df[df['song']=='Lady Luck'].index[0]"
   ]
  },
  {
   "cell_type": "markdown",
   "id": "dea07fde-6b9c-4b85-9727-d4dca41ffe83",
   "metadata": {},
   "source": [
    "The Recommender Function!"
   ]
  },
  {
   "cell_type": "code",
   "execution_count": 195,
   "id": "d2a0ae69-4f60-491c-bf12-6383d9c6d7d6",
   "metadata": {},
   "outputs": [],
   "source": [
    "def recommendation(song_name):\n",
    "    idx = df[df['song'] == song_name].index[0]\n",
    "    distances = sorted(list(enumerate(similar[idx])),reverse=True,key=lambda x:x[1])\n",
    "    \n",
    "    songs = []\n",
    "    for m_id in distances[1:6]:\n",
    "        songs.append(df.iloc[m_id[0]].song)\n",
    "        \n",
    "    return songs"
   ]
  },
  {
   "cell_type": "code",
   "execution_count": 201,
   "id": "c39046e1-7402-417a-85d6-dd0103f578fa",
   "metadata": {},
   "outputs": [
    {
     "data": {
      "text/plain": [
       "['Hey Girl',\n",
       " 'Thunderhead',\n",
       " 'I Was Made To Love Him',\n",
       " 'Hey Hey, My My',\n",
       " 'No Need For Conversation']"
      ]
     },
     "execution_count": 201,
     "metadata": {},
     "output_type": "execute_result"
    }
   ],
   "source": [
    "recommendation('Hey Baby')"
   ]
  },
  {
   "cell_type": "code",
   "execution_count": 203,
   "id": "c89839ab-41bd-4712-ad94-a12db3cf6118",
   "metadata": {},
   "outputs": [],
   "source": [
    "import pickle"
   ]
  },
  {
   "cell_type": "code",
   "execution_count": 207,
   "id": "a309f384-4e9c-47ce-88d4-e85df5c8ea0e",
   "metadata": {},
   "outputs": [],
   "source": [
    "pickle.dump(similar, open(\"similar\", \"wb\"))"
   ]
  },
  {
   "cell_type": "code",
   "execution_count": 209,
   "id": "e6d09d76-8e3b-4e5d-90ff-790a81545794",
   "metadata": {},
   "outputs": [],
   "source": [
    "pickle.dump(df, open(\"df\", \"wb\"))"
   ]
  },
  {
   "cell_type": "code",
   "execution_count": null,
   "id": "e460ef84-4c5b-4b04-8cd8-085206d62e24",
   "metadata": {},
   "outputs": [],
   "source": []
  }
 ],
 "metadata": {
  "kernelspec": {
   "display_name": "Python 3 (ipykernel)",
   "language": "python",
   "name": "python3"
  },
  "language_info": {
   "codemirror_mode": {
    "name": "ipython",
    "version": 3
   },
   "file_extension": ".py",
   "mimetype": "text/x-python",
   "name": "python",
   "nbconvert_exporter": "python",
   "pygments_lexer": "ipython3",
   "version": "3.11.7"
  }
 },
 "nbformat": 4,
 "nbformat_minor": 5
}
